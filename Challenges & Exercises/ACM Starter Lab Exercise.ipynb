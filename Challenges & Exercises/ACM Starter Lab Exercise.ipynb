{
 "cells": [
  {
   "cell_type": "code",
   "execution_count": 6,
   "metadata": {},
   "outputs": [
    {
     "name": "stdout",
     "output_type": "stream",
     "text": [
      "Radius value:8\n",
      "2144.256\n"
     ]
    }
   ],
   "source": [
    "def sphere_volume(rad):\n",
    "    pi = 3.141\n",
    "    sv = (4/3)*pi*(rad)**3\n",
    "    print(sv)\n",
    "sphere_volume(int(input('Radius value:')))\n"
   ]
  },
  {
   "cell_type": "code",
   "execution_count": 2,
   "metadata": {},
   "outputs": [
    {
     "name": "stdout",
     "output_type": "stream",
     "text": [
      "In range\n"
     ]
    }
   ],
   "source": [
    "def ran_check(num,low,high):\n",
    "    if num in range(low,high+1):\n",
    "        print('In range')\n",
    "    else:\n",
    "        print('Not in range')\n",
    "\n",
    "ran_check(3,1,10)"
   ]
  },
  {
   "cell_type": "code",
   "execution_count": 7,
   "metadata": {},
   "outputs": [
    {
     "data": {
      "text/plain": [
       "True"
      ]
     },
     "execution_count": 7,
     "metadata": {},
     "output_type": "execute_result"
    }
   ],
   "source": [
    "def ran_check(num,low,high):\n",
    "      return num in range(low,high+1)\n",
    "\n",
    "ran_check(3,1,10)"
   ]
  },
  {
   "cell_type": "code",
   "execution_count": 4,
   "metadata": {},
   "outputs": [
    {
     "name": "stdout",
     "output_type": "stream",
     "text": [
      "-24\n"
     ]
    }
   ],
   "source": [
    "def multiply(number):\n",
    "  product =1\n",
    "  for x in number:\n",
    "      product *=x\n",
    "  return(product)\n",
    "print(multiply([1,2,3,-4]))"
   ]
  },
  {
   "cell_type": "code",
   "execution_count": 19,
   "metadata": {},
   "outputs": [
    {
     "data": {
      "text/plain": [
       "[1]"
      ]
     },
     "execution_count": 19,
     "metadata": {},
     "output_type": "execute_result"
    }
   ],
   "source": [
    "def unique_list(l):\n",
    "    x=[]\n",
    "    for n in l:\n",
    "        if n not in x:\n",
    "            x.append(n)\n",
    "        return(x)\n",
    "unique_list([1,1,1,2,2,2,3,4,5,5,6,5,4,3,3])"
   ]
  },
  {
   "cell_type": "code",
   "execution_count": 13,
   "metadata": {},
   "outputs": [
    {
     "name": "stdout",
     "output_type": "stream",
     "text": [
      "The string: fEw ef ef fwe ef\n",
      "Has 1 number of uppercase and11 number of lower case\n"
     ]
    }
   ],
   "source": [
    "def up_low(s):\n",
    "    isLower = 0\n",
    "    isUpper = 0\n",
    "    for c in s:\n",
    "        if c.isupper():\n",
    "            isUpper+=1\n",
    "        elif c.islower():\n",
    "            isLower+=1\n",
    "        \n",
    "    print('The string:',s)\n",
    "    print('Has {} number of uppercase and{} number of lower case'.format(isUpper, isLower))\n",
    "s = 'fEw ef ef fwe ef'\n",
    "up_low(s)"
   ]
  },
  {
   "cell_type": "code",
   "execution_count": 22,
   "metadata": {},
   "outputs": [
    {
     "data": {
      "text/plain": [
       "True"
      ]
     },
     "execution_count": 22,
     "metadata": {},
     "output_type": "execute_result"
    }
   ],
   "source": [
    "def palindrome(s):\n",
    "    s=s.replace(' ','')\n",
    "    return s==s[::-1]\n",
    "palindrome('nurses run')"
   ]
  },
  {
   "cell_type": "code",
   "execution_count": null,
   "metadata": {},
   "outputs": [],
   "source": []
  },
  {
   "cell_type": "code",
   "execution_count": null,
   "metadata": {},
   "outputs": [],
   "source": []
  }
 ],
 "metadata": {
  "kernelspec": {
   "display_name": "Python 3",
   "language": "python",
   "name": "python3"
  },
  "language_info": {
   "codemirror_mode": {
    "name": "ipython",
    "version": 3
   },
   "file_extension": ".py",
   "mimetype": "text/x-python",
   "name": "python",
   "nbconvert_exporter": "python",
   "pygments_lexer": "ipython3",
   "version": "3.6.4"
  }
 },
 "nbformat": 4,
 "nbformat_minor": 2
}
