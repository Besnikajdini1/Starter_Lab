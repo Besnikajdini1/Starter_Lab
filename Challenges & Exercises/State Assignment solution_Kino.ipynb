{
 "cells": [
  {
   "cell_type": "code",
   "execution_count": 14,
   "metadata": {},
   "outputs": [
    {
     "name": "stdout",
     "output_type": "stream",
     "text": [
      "start\n",
      "s\n",
      "sentence\n"
     ]
    }
   ],
   "source": [
    "#Use for, .split(), and if to create a Statement that will print out words that start with 's':\n",
    "string = 'Print only the words that start with s in this sentence'\n",
    "\n",
    "for word_s in string.split():\n",
    "    if word_s[0] == 's':\n",
    "        print(word_s)"
   ]
  },
  {
   "cell_type": "code",
   "execution_count": 6,
   "metadata": {},
   "outputs": [
    {
     "name": "stdout",
     "output_type": "stream",
     "text": [
      "0\n",
      "2\n",
      "4\n",
      "6\n",
      "8\n",
      "10\n"
     ]
    }
   ],
   "source": [
    "#Use range() to print all the even numbers from 0 to 10.\n",
    "for i in range(0,11,2):\n",
    "    print(i)"
   ]
  },
  {
   "cell_type": "code",
   "execution_count": 23,
   "metadata": {},
   "outputs": [
    {
     "name": "stdout",
     "output_type": "stream",
     "text": [
      "[3, 6, 9, 12, 15, 18, 21, 24, 27, 30, 33, 36, 39, 42, 45, 48]\n"
     ]
    }
   ],
   "source": [
    "#Use List comprehension to create a list of all numbers between 1 and 50 that are divisible by 3.\n",
    "x = [i for i in range(1,51) if i%3==0]\n",
    "print(x)"
   ]
  },
  {
   "cell_type": "code",
   "execution_count": 24,
   "metadata": {},
   "outputs": [
    {
     "name": "stdout",
     "output_type": "stream",
     "text": [
      "word is EVEN\n",
      "in is EVEN\n",
      "this is EVEN\n",
      "sentence is EVEN\n",
      "that is EVEN\n",
      "an is EVEN\n",
      "even is EVEN\n",
      "number is EVEN\n",
      "of is EVEN\n"
     ]
    }
   ],
   "source": [
    "#Go through the string below and if the length of a word is even print \"even!\"\n",
    "string1 = 'Print every word in this sentence that has an even number of letters'\n",
    "for even_word in string1.split():\n",
    "    if len(even_word)%2==0:\n",
    "        print(even_word+ ' is EVEN')\n"
   ]
  },
  {
   "cell_type": "code",
   "execution_count": 13,
   "metadata": {},
   "outputs": [
    {
     "name": "stdout",
     "output_type": "stream",
     "text": [
      "1\n",
      "2\n",
      "Fizz\n",
      "4\n"
     ]
    }
   ],
   "source": [
    "#Write a program that prints the integers from 1 to 100. \n",
    "#But for multiples of three print \"Fizz\" instead of the number, \n",
    "#and for the multiples of five print \"Buzz\".\n",
    "#For numbers which are multiples of both three and five print \"FizzBuzz\".\n",
    "\n",
    "\n",
    "for n in range(1,101):\n",
    "    if n % 5 == 0 and n % 3 == 0:\n",
    "        print (\"FizzBuzz\")\n",
    "    elif n % 3 == 0:\n",
    "        print (\"Fizz\")\n",
    "    elif n % 5 == 0:\n",
    "        print (\"Buzz\")\n",
    "    else:\n",
    "        print(n)\n"
   ]
  },
  {
   "cell_type": "code",
   "execution_count": 27,
   "metadata": {},
   "outputs": [
    {
     "data": {
      "text/plain": [
       "['C', 'a', 'l', 'o', 't', 'f', 'l', 'o', 'e', 'w', 'i', 't', 's']"
      ]
     },
     "execution_count": 27,
     "metadata": {},
     "output_type": "execute_result"
    }
   ],
   "source": [
    "#Use List Comprehension to create a list of the first letters of every word in the string below:\n",
    "\n",
    "string2 = 'Create a list of the first letters of every word in this string'\n",
    "[i[0] for i in string2.split()]\n",
    "    "
   ]
  },
  {
   "cell_type": "code",
   "execution_count": 33,
   "metadata": {},
   "outputs": [
    {
     "name": "stdout",
     "output_type": "stream",
     "text": [
      "C\n",
      "a\n",
      "l\n",
      "o\n",
      "t\n",
      "f\n",
      "l\n",
      "o\n",
      "e\n",
      "w\n",
      "i\n",
      "t\n",
      "s\n"
     ]
    }
   ],
   "source": [
    "\n",
    "for i in string2.split():\n",
    "    print(i[0])"
   ]
  },
  {
   "cell_type": "code",
   "execution_count": null,
   "metadata": {},
   "outputs": [],
   "source": []
  }
 ],
 "metadata": {
  "kernelspec": {
   "display_name": "Python 3",
   "language": "python",
   "name": "python3"
  },
  "language_info": {
   "codemirror_mode": {
    "name": "ipython",
    "version": 3
   },
   "file_extension": ".py",
   "mimetype": "text/x-python",
   "name": "python",
   "nbconvert_exporter": "python",
   "pygments_lexer": "ipython3",
   "version": "3.6.4"
  }
 },
 "nbformat": 4,
 "nbformat_minor": 2
}
